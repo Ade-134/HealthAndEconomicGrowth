{
 "cells": [
  {
   "cell_type": "markdown",
   "id": "052b1458",
   "metadata": {},
   "source": [
    "# Import dependencies"
   ]
  },
  {
   "cell_type": "code",
   "execution_count": 1,
   "id": "8c7af90ee2c1699b",
   "metadata": {
    "ExecuteTime": {
     "end_time": "2025-04-16T14:15:41.511436Z",
     "start_time": "2025-04-16T14:15:41.506391Z"
    }
   },
   "outputs": [],
   "source": [
    "import pandas as pd\n",
    "import numpy as np\n",
    "import copy\n",
    "from utils.cleanColumnNames import cleanColumnNames\n",
    "from utils.createCountryDataframes import createCountryDataframes\n",
    "from utils.combineCountryDataframes import combineCountryDataframes\n",
    "import statsmodels.api as sm"
   ]
  },
  {
   "cell_type": "markdown",
   "id": "b1fbe8fdd68c1633",
   "metadata": {},
   "source": [
    "# Extract Data"
   ]
  },
  {
   "cell_type": "code",
   "execution_count": 2,
   "id": "a0d82c8fd9f6ef64",
   "metadata": {
    "ExecuteTime": {
     "end_time": "2025-04-16T14:15:41.538119Z",
     "start_time": "2025-04-16T14:15:41.524034Z"
    }
   },
   "outputs": [],
   "source": [
    "GDP_capita_growth_annual_all = pd.read_csv('/Users/adelinabalea/Library/CloudStorage/OneDrive-UniversitateaBabeş-Bolyai/Bachelor Thesis/Data/Extracted/AllCountries/GDP_capita_growth_annual_all.csv')"
   ]
  },
  {
   "cell_type": "code",
   "execution_count": 3,
   "id": "e7d7a7602214ecd0",
   "metadata": {
    "ExecuteTime": {
     "end_time": "2025-04-16T14:15:41.626686Z",
     "start_time": "2025-04-16T14:15:41.619132Z"
    }
   },
   "outputs": [],
   "source": [
    "Life_expectancy_at_birth_all = pd.read_csv('/Users/adelinabalea/Library/CloudStorage/OneDrive-UniversitateaBabeş-Bolyai/Bachelor Thesis/Data/Extracted/AllCountries/Life_expectancy_at_birth_all.csv')"
   ]
  },
  {
   "cell_type": "code",
   "execution_count": 4,
   "id": "481b6e161ed8413",
   "metadata": {
    "ExecuteTime": {
     "end_time": "2025-04-16T14:15:41.637739Z",
     "start_time": "2025-04-16T14:15:41.631043Z"
    }
   },
   "outputs": [],
   "source": [
    "GDP_capita_PPP_const_2021_all = pd.read_csv('/Users/adelinabalea/Library/CloudStorage/OneDrive-UniversitateaBabeş-Bolyai/Bachelor Thesis/Data/Extracted/AllCountries/GDP_capita_PPP_const_2021_all.csv')"
   ]
  },
  {
   "cell_type": "code",
   "execution_count": 5,
   "id": "cc417619e52a00a1",
   "metadata": {
    "ExecuteTime": {
     "end_time": "2025-04-16T14:15:41.679430Z",
     "start_time": "2025-04-16T14:15:41.673342Z"
    }
   },
   "outputs": [],
   "source": [
    "Gross_fixed_capital_form_all = pd.read_csv('/Users/adelinabalea/Library/CloudStorage/OneDrive-UniversitateaBabeş-Bolyai/Bachelor Thesis/Data/Extracted/AllCountries/Gross_fixed_capital_form_all.csv')"
   ]
  },
  {
   "cell_type": "code",
   "execution_count": 6,
   "id": "d5ec84999c7a7081",
   "metadata": {
    "ExecuteTime": {
     "end_time": "2025-04-16T14:15:41.719628Z",
     "start_time": "2025-04-16T14:15:41.714420Z"
    }
   },
   "outputs": [],
   "source": [
    "School_enroll_secondary_all = pd.read_csv('/Users/adelinabalea/Library/CloudStorage/OneDrive-UniversitateaBabeş-Bolyai/Bachelor Thesis/Data/Extracted/AllCountries/School_enroll_secondary_all.csv')"
   ]
  },
  {
   "cell_type": "code",
   "execution_count": 7,
   "id": "2df835b2f439d6a9",
   "metadata": {
    "ExecuteTime": {
     "end_time": "2025-04-16T14:15:41.760603Z",
     "start_time": "2025-04-16T14:15:41.754683Z"
    }
   },
   "outputs": [],
   "source": [
    "Gen_gov_fin_consumption_all = pd.read_csv('/Users/adelinabalea/Library/CloudStorage/OneDrive-UniversitateaBabeş-Bolyai/Bachelor Thesis/Data/Extracted/AllCountries/Gen_gov_fin_consumption_all.csv')"
   ]
  },
  {
   "cell_type": "code",
   "execution_count": 8,
   "id": "7f1f7e2f62764dbf",
   "metadata": {
    "ExecuteTime": {
     "end_time": "2025-04-16T14:15:41.798945Z",
     "start_time": "2025-04-16T14:15:41.793786Z"
    }
   },
   "outputs": [],
   "source": [
    "Exports_percent_GDP_all = pd.read_csv('/Users/adelinabalea/Library/CloudStorage/OneDrive-UniversitateaBabeş-Bolyai/Bachelor Thesis/Data/Extracted/AllCountries/Exports_percent_GDP_all.csv')"
   ]
  },
  {
   "cell_type": "code",
   "execution_count": 9,
   "id": "da1a8b14572b7d22",
   "metadata": {
    "ExecuteTime": {
     "end_time": "2025-04-16T14:15:41.840408Z",
     "start_time": "2025-04-16T14:15:41.834039Z"
    }
   },
   "outputs": [],
   "source": [
    "Imports_percent_GDP_all = pd.read_csv('/Users/adelinabalea/Library/CloudStorage/OneDrive-UniversitateaBabeş-Bolyai/Bachelor Thesis/Data/Extracted/AllCountries/Imports_percent_GDP_all.csv')"
   ]
  },
  {
   "cell_type": "code",
   "execution_count": 10,
   "id": "ee40cf412f26b44a",
   "metadata": {
    "ExecuteTime": {
     "end_time": "2025-04-16T14:15:41.880519Z",
     "start_time": "2025-04-16T14:15:41.873821Z"
    }
   },
   "outputs": [],
   "source": [
    "Population_total_all = pd.read_csv('/Users/adelinabalea/Library/CloudStorage/OneDrive-UniversitateaBabeş-Bolyai/Bachelor Thesis/Data/Extracted/AllCountries/Population_total_all.csv')"
   ]
  },
  {
   "cell_type": "code",
   "execution_count": 11,
   "id": "f80a5e28ca0fa3e7",
   "metadata": {
    "ExecuteTime": {
     "end_time": "2025-04-16T14:15:41.917487Z",
     "start_time": "2025-04-16T14:15:41.912193Z"
    }
   },
   "outputs": [],
   "source": [
    "Adult_female_pop_all = pd.read_csv('/Users/adelinabalea/Library/CloudStorage/OneDrive-UniversitateaBabeş-Bolyai/Bachelor Thesis/Data/Extracted/AllCountries/Adult_female_pop_all.csv')"
   ]
  },
  {
   "cell_type": "code",
   "execution_count": 12,
   "id": "9adf51a5de170024",
   "metadata": {
    "ExecuteTime": {
     "end_time": "2025-04-16T14:15:41.955551Z",
     "start_time": "2025-04-16T14:15:41.950374Z"
    }
   },
   "outputs": [],
   "source": [
    "Adult_male_pop_all = pd.read_csv('/Users/adelinabalea/Library/CloudStorage/OneDrive-UniversitateaBabeş-Bolyai/Bachelor Thesis/Data/Extracted/AllCountries/Adult_male_pop_all.csv')"
   ]
  },
  {
   "cell_type": "code",
   "execution_count": 13,
   "id": "ca70de177756559a",
   "metadata": {
    "ExecuteTime": {
     "end_time": "2025-04-16T14:15:41.992781Z",
     "start_time": "2025-04-16T14:15:41.987639Z"
    }
   },
   "outputs": [],
   "source": [
    "Adult_female_mort_rate_all = pd.read_csv('/Users/adelinabalea/Library/CloudStorage/OneDrive-UniversitateaBabeş-Bolyai/Bachelor Thesis/Data/Extracted/AllCountries/Adult_female_mort_rate_all.csv')"
   ]
  },
  {
   "cell_type": "code",
   "execution_count": 14,
   "id": "962b1535cf20baa3",
   "metadata": {
    "ExecuteTime": {
     "end_time": "2025-04-16T14:15:42.030735Z",
     "start_time": "2025-04-16T14:15:42.025589Z"
    }
   },
   "outputs": [],
   "source": [
    "Adult_male_mort_rate_all = pd.read_csv('/Users/adelinabalea/Library/CloudStorage/OneDrive-UniversitateaBabeş-Bolyai/Bachelor Thesis/Data/Extracted/AllCountries/Adult_male_mort_rate_all.csv')"
   ]
  },
  {
   "cell_type": "code",
   "execution_count": 15,
   "id": "2ef5f9957204caeb",
   "metadata": {
    "ExecuteTime": {
     "end_time": "2025-04-16T14:15:42.067755Z",
     "start_time": "2025-04-16T14:15:42.061937Z"
    }
   },
   "outputs": [],
   "source": [
    "Fertility_rate_all = pd.read_csv('/Users/adelinabalea/Library/CloudStorage/OneDrive-UniversitateaBabeş-Bolyai/Bachelor Thesis/Data/Extracted/AllCountries/Fertility_rate_all.csv')"
   ]
  },
  {
   "cell_type": "code",
   "execution_count": 16,
   "id": "36db20a555613a19",
   "metadata": {
    "ExecuteTime": {
     "end_time": "2025-04-16T14:15:42.105675Z",
     "start_time": "2025-04-16T14:15:42.100250Z"
    }
   },
   "outputs": [],
   "source": [
    "Infant_mort_rate_all = pd.read_csv('/Users/adelinabalea/Library/CloudStorage/OneDrive-UniversitateaBabeş-Bolyai/Bachelor Thesis/Data/Extracted/AllCountries/Infant_mort_rate_all.csv')"
   ]
  },
  {
   "cell_type": "code",
   "execution_count": 17,
   "id": "19c03a5206bd3931",
   "metadata": {
    "ExecuteTime": {
     "end_time": "2025-04-16T14:15:42.144972Z",
     "start_time": "2025-04-16T14:15:42.138899Z"
    }
   },
   "outputs": [],
   "source": [
    "Crude_death_rate_all = pd.read_csv('/Users/adelinabalea/Library/CloudStorage/OneDrive-UniversitateaBabeş-Bolyai/Bachelor Thesis/Data/Extracted/AllCountries/Crude_death_rate_all.csv')"
   ]
  },
  {
   "cell_type": "code",
   "execution_count": 18,
   "id": "79a250dc",
   "metadata": {},
   "outputs": [],
   "source": [
    "OECD_40_60_raw = pd.read_csv('/Users/adelinabalea/Library/CloudStorage/OneDrive-UniversitateaBabeş-Bolyai/Bachelor Thesis/Data/Extracted/OECDCountries/OECD_40_60 copy.csv')"
   ]
  },
  {
   "cell_type": "code",
   "execution_count": 19,
   "id": "57b250b0",
   "metadata": {},
   "outputs": [],
   "source": [
    "OECD_65_80_raw = pd.read_csv('/Users/adelinabalea/Library/CloudStorage/OneDrive-UniversitateaBabeş-Bolyai/Bachelor Thesis/Data/Extracted/OECDCountries/OECD_65_80 copy.csv')"
   ]
  },
  {
   "cell_type": "markdown",
   "id": "ae15ceb3ebda5bed",
   "metadata": {},
   "source": [
    "# Clean Data"
   ]
  },
  {
   "cell_type": "markdown",
   "id": "b2534fa0",
   "metadata": {},
   "source": [
    "### Life Expectancy Data"
   ]
  },
  {
   "cell_type": "code",
   "execution_count": 20,
   "id": "7e95fd96",
   "metadata": {},
   "outputs": [],
   "source": [
    "# Drop columns 'Structure', 'STRUCTURE_ID', 'STRUCTURE_NAME', 'ACTION', 'FREQ', 'Frequency of observation', 'MEASURE', 'DECIMALS', \\\n",
    "# 'Decimals', 'OBS_STATUS', 'Observation status', 'OBS_STATUS2', 'Observation status 2', 'OBS_STATUS3', 'Observation status 3', \\\n",
    "# 'UNIT_MULT', 'Unit multiplier' for OECD_40_60 and OECD_65_80 dataframes\n",
    "columns_to_drop_1 = ['STRUCTURE', 'STRUCTURE_ID', 'STRUCTURE_NAME', 'ACTION', 'FREQ', 'Frequency of observation', 'MEASURE', 'UNIT_MEASURE', \\\n",
    "                     'Unit of measure', 'AGE', 'SEX', 'SOCIO_ECON_STATUS', 'Socio-economic status', 'DEATH_CAUSE', 'Cause of death', \\\n",
    "                     'CALC_METHODOLOGY', 'Calculation methodology', 'GESTATION_THRESHOLD', 'Gestation period threshold', 'HEALTH_STATUS', \\\n",
    "                     'Health status', 'DISEASE', 'Disease', 'CANCER_SITE', 'Cancer site', 'Time period', 'Observation value', \\\n",
    "                     'DECIMALS', 'Decimals', 'OBS_STATUS', 'Observation status', 'OBS_STATUS2', 'Observation status 2', 'OBS_STATUS3', \\\n",
    "                     'Observation status 3', 'UNIT_MULT', 'Unit multiplier']\n",
    "\n",
    "OECD_40_60_raw.drop(columns = columns_to_drop_1, axis = 1, inplace = True)\n",
    "OECD_65_80_raw.drop(columns = columns_to_drop_1, axis = 1, inplace = True)"
   ]
  },
  {
   "cell_type": "code",
   "execution_count": 21,
   "id": "9f9b5b78",
   "metadata": {},
   "outputs": [],
   "source": [
    "# Rename columns to fit the other dataframes\n",
    "OECD_40_60_raw.rename(columns = {'REF_AREA' : 'Country Code', 'Reference area' : 'Country Name', 'TIME_PERIOD' : 'Year', 'OBS_VALUE' : 'Value', \\\n",
    "                             'Measure' : 'Series Name'}, inplace = True)\n",
    "\n",
    "OECD_65_80_raw.rename(columns = {'REF_AREA' : 'Country Code', 'Reference area' : 'Country Name', 'TIME_PERIOD' : 'Year', 'OBS_VALUE' : 'Value', \\\n",
    "                             'Measure' : 'Series Name'}, inplace = True)"
   ]
  },
  {
   "cell_type": "code",
   "execution_count": 22,
   "id": "8693f831",
   "metadata": {},
   "outputs": [],
   "source": [
    "OECD_40_60_raw = copy.deepcopy(OECD_40_60_raw[~OECD_40_60_raw['Country Code'].isin(['KOR', 'AUS', 'JPN', 'USA'])]).reset_index(drop=True)\n",
    "OECD_65_80_raw = copy.deepcopy(OECD_65_80_raw[~OECD_65_80_raw['Country Code'].isin(['KOR', 'AUS', 'JPN', 'USA'])]).reset_index(drop=True)"
   ]
  },
  {
   "cell_type": "code",
   "execution_count": 23,
   "id": "2f678a76",
   "metadata": {},
   "outputs": [],
   "source": [
    "# Reorder columns to fit the other dataframes\n",
    "OECD_40_60 = OECD_40_60_raw[['Country Name', 'Country Code', 'Series Name', 'Age', 'Sex', 'Year', 'Value']]\n",
    "OECD_65_80 = OECD_65_80_raw[['Country Name', 'Country Code', 'Series Name', 'Age', 'Sex', 'Year', 'Value']]"
   ]
  },
  {
   "cell_type": "code",
   "execution_count": 24,
   "id": "20659236",
   "metadata": {},
   "outputs": [],
   "source": [
    "# Clean up the 'Age' column values\n",
    "OECD_40_60['Age'] = OECD_40_60['Age'].str.split(' ').str[0]\n",
    "\n",
    "OECD_65_80['Age'] = OECD_65_80['Age'].str.split(' ').str[0]"
   ]
  },
  {
   "cell_type": "code",
   "execution_count": 25,
   "id": "b0fd1ffe",
   "metadata": {},
   "outputs": [],
   "source": [
    "# Sort the dataframes alphabetically by 'Country Name' and in ascending order by 'Year'\n",
    "OECD_40_60.sort_values(by=['Country Name', 'Year'], inplace=True)\n",
    "OECD_40_60.reset_index(drop=True, inplace=True)\n",
    "\n",
    "OECD_65_80.sort_values(by=['Country Name', 'Year'], inplace=True)\n",
    "OECD_65_80.reset_index(drop=True, inplace=True)"
   ]
  },
  {
   "cell_type": "code",
   "execution_count": 26,
   "id": "1a379af8",
   "metadata": {},
   "outputs": [],
   "source": [
    "# Create dataframes by life expectancy at age X and by sex\n",
    "Life_expectancy_at_40_female_OECD = OECD_40_60[(OECD_40_60['Age'] == '40') & (OECD_40_60['Sex'] == 'Female')].reset_index(drop = True)\n",
    "Life_expectancy_at_40_male_OECD = OECD_40_60[(OECD_40_60['Age'] == '40') & (OECD_40_60['Sex'] == 'Male')].reset_index(drop = True)\n",
    "Life_expectancy_at_60_female_OECD = OECD_40_60[(OECD_40_60['Age'] == '60') & (OECD_40_60['Sex'] == 'Female')].reset_index(drop = True)\n",
    "Life_expectancy_at_60_male_OECD = OECD_40_60[(OECD_40_60['Age'] == '60') & (OECD_40_60['Sex'] == 'Male')].reset_index(drop = True)\n",
    "\n",
    "Life_expectancy_at_65_female_OECD = OECD_65_80[(OECD_65_80['Age'] == '65') & (OECD_65_80['Sex'] == 'Female')].reset_index(drop = True)\n",
    "Life_expectancy_at_65_male_OECD = OECD_65_80[(OECD_65_80['Age'] == '65') & (OECD_65_80['Sex'] == 'Male')].reset_index(drop = True)\n",
    "Life_expectancy_at_80_female_OECD = OECD_65_80[(OECD_65_80['Age'] == '80') & (OECD_65_80['Sex'] == 'Female')].reset_index(drop = True)\n",
    "Life_expectancy_at_80_male_OECD = OECD_65_80[(OECD_65_80['Age'] == '80') & (OECD_65_80['Sex'] == 'Male')].reset_index(drop = True)\n"
   ]
  },
  {
   "cell_type": "code",
   "execution_count": 27,
   "id": "28a8f294",
   "metadata": {},
   "outputs": [],
   "source": [
    "# Create a list of all the life expectancy by age data\n",
    "life_expectancy_by_age_df_list = [Life_expectancy_at_40_female_OECD, Life_expectancy_at_40_male_OECD, Life_expectancy_at_60_female_OECD, \\\n",
    "                                  Life_expectancy_at_60_male_OECD, Life_expectancy_at_65_female_OECD, Life_expectancy_at_65_male_OECD, \\\n",
    "                                  Life_expectancy_at_80_female_OECD, Life_expectancy_at_80_male_OECD]"
   ]
  },
  {
   "cell_type": "code",
   "execution_count": 28,
   "id": "f8380f1b",
   "metadata": {},
   "outputs": [],
   "source": [
    "# Create a list of all the life expectancy by age data and their names\n",
    "life_expectancy_by_age_df_list_names = [(Life_expectancy_at_40_female_OECD, 'Life Expectancy at 40 Female'),\n",
    "                                        (Life_expectancy_at_40_male_OECD, 'Life Expectancy at 40 Male'), \n",
    "                                        (Life_expectancy_at_60_female_OECD, 'Life Expectancy at 60 Female'), \n",
    "                                        (Life_expectancy_at_60_male_OECD, 'Life Expectancy at 60 Male'), \n",
    "                                        (Life_expectancy_at_65_female_OECD, 'Life Expectancy at 65 Female'), \n",
    "                                        (Life_expectancy_at_65_male_OECD, 'Life Expectancy at 65 Male'), \n",
    "                                        (Life_expectancy_at_80_female_OECD, 'Life Expectancy at 80 Female'), \n",
    "                                        (Life_expectancy_at_80_male_OECD, 'Life Expectancy at 80 Male')]"
   ]
  },
  {
   "cell_type": "code",
   "execution_count": 29,
   "id": "99eeab4a",
   "metadata": {},
   "outputs": [],
   "source": [
    "# Convert column 'Year' to numeric and drop columns 'Age' and 'Sex' because now the age and sex are in the name of the df\n",
    "for i in range(len(life_expectancy_by_age_df_list)):\n",
    "    df = life_expectancy_by_age_df_list[i]\n",
    "    df['Year'] = pd.to_numeric(df['Year'], errors='coerce')\n",
    "    \n",
    "    # Drop unnecessary columns\n",
    "    df.drop(columns=['Age', 'Sex'], errors='ignore', inplace=True)"
   ]
  },
  {
   "cell_type": "markdown",
   "id": "1267dd91",
   "metadata": {},
   "source": [
    "### WDI Data"
   ]
  },
  {
   "cell_type": "code",
   "execution_count": 30,
   "id": "727efd67",
   "metadata": {},
   "outputs": [],
   "source": [
    "# Make a list of all countries names from the WDI database\n",
    "country_names_list = GDP_capita_growth_annual_all.iloc[:, 0].tolist()"
   ]
  },
  {
   "cell_type": "code",
   "execution_count": 31,
   "id": "94397927",
   "metadata": {},
   "outputs": [],
   "source": [
    "# Make a list of all OECD countries names\n",
    "OECDcountry_names_list = ['Australia', 'Austria', 'Belgium', 'Canada', 'Chile', 'Colombia', 'Costa Rica', 'Czechia', \\\n",
    "                      'Denmark', 'Estonia', 'Finland', 'France', 'Germany', 'Greece', 'Hungary', 'Iceland', 'Ireland', \\\n",
    "                      'Israel', 'Italy', 'Japan', \"Korea, Dem. People's Rep.\", 'Latvia', 'Lithuania', 'Luxembourg', 'Mexico', \\\n",
    "                      'Netherlands', 'New Zealand', 'Norway', 'Poland', 'Portugal', 'Slovak Republic', 'Slovenia', 'Spain', \\\n",
    "                      'Sweden', 'Switzerland', 'Turkiye', 'United Kingdom', 'United States']"
   ]
  },
  {
   "cell_type": "code",
   "execution_count": 32,
   "id": "ab82eb9c8449886c",
   "metadata": {
    "ExecuteTime": {
     "end_time": "2025-04-16T14:41:25.914695Z",
     "start_time": "2025-04-16T14:41:25.902680Z"
    }
   },
   "outputs": [],
   "source": [
    "# Make a table with the countries' name and code\n",
    "CountryName_Code = GDP_capita_growth_annual_all[['Country Name', 'Country Code']]"
   ]
  },
  {
   "cell_type": "code",
   "execution_count": 33,
   "id": "bdee7f95c4cebdf4",
   "metadata": {
    "ExecuteTime": {
     "end_time": "2025-04-16T14:26:52.147006Z",
     "start_time": "2025-04-16T14:26:52.136787Z"
    }
   },
   "outputs": [],
   "source": [
    "# Make a list with all the dataframes\n",
    "All_df_list = [GDP_capita_growth_annual_all, \n",
    "               Life_expectancy_at_birth_all, \n",
    "               GDP_capita_PPP_const_2021_all, \n",
    "               Gross_fixed_capital_form_all, \n",
    "               School_enroll_secondary_all, \n",
    "               Gen_gov_fin_consumption_all, \n",
    "               Exports_percent_GDP_all, \n",
    "               Imports_percent_GDP_all, \n",
    "               Population_total_all, \n",
    "               Adult_female_pop_all, \n",
    "               Adult_male_pop_all, \n",
    "               Adult_female_mort_rate_all, \n",
    "               Adult_male_mort_rate_all, \n",
    "               Fertility_rate_all, \n",
    "               Infant_mort_rate_all, \n",
    "               Crude_death_rate_all]"
   ]
  },
  {
   "cell_type": "code",
   "execution_count": 34,
   "id": "a8bd2e4c",
   "metadata": {},
   "outputs": [],
   "source": [
    "# Drop columns 'Series Code', '2021', '2022', '2023'\n",
    "columns_to_drop_2 = ['Series Code', '2021 [YR2021]', '2022 [YR2022]', '2023 [YR2023]']\n",
    "\n",
    "for i in range(len(All_df_list)):\n",
    "    All_df_list[i].drop(columns = columns_to_drop_2, axis = 1, inplace = True, errors = 'ignore')"
   ]
  },
  {
   "cell_type": "code",
   "execution_count": 35,
   "id": "20759d1f",
   "metadata": {},
   "outputs": [],
   "source": [
    "# Clean years column names for each dataframe in the list of dataframes\n",
    "All_df_list = cleanColumnNames(All_df_list)"
   ]
  },
  {
   "cell_type": "code",
   "execution_count": 36,
   "id": "926eb866",
   "metadata": {},
   "outputs": [],
   "source": [
    "#Create a dataframe for each country\n",
    "country_dataframes = createCountryDataframes(country_names_list, All_df_list)"
   ]
  },
  {
   "cell_type": "markdown",
   "id": "5d91eca9",
   "metadata": {},
   "source": [
    "## Handle Missing Values"
   ]
  },
  {
   "cell_type": "code",
   "execution_count": 37,
   "id": "feac3fab",
   "metadata": {},
   "outputs": [],
   "source": [
    "# Create a dataframe with all countries' data\n",
    "data = combineCountryDataframes(country_dataframes)"
   ]
  },
  {
   "cell_type": "code",
   "execution_count": 38,
   "id": "1b2b9c7b",
   "metadata": {},
   "outputs": [],
   "source": [
    "# Replace '..' missing values with the proper null pandas variable\n",
    "data.replace('..', np.nan, inplace=True)"
   ]
  },
  {
   "cell_type": "code",
   "execution_count": 39,
   "id": "4bf9fbd5",
   "metadata": {},
   "outputs": [
    {
     "data": {
      "text/plain": [
       "'missing_values_per_column_1 = data.isnull().sum()\\nprint(\"Missing values per column:\\n\", missing_values_per_column_1)'"
      ]
     },
     "execution_count": 39,
     "metadata": {},
     "output_type": "execute_result"
    }
   ],
   "source": [
    "# Check for missing values based on column\n",
    "'''missing_values_per_column_1 = data.isnull().sum()\n",
    "print(\"Missing values per column:\\n\", missing_values_per_column_1)'''"
   ]
  },
  {
   "cell_type": "code",
   "execution_count": 40,
   "id": "3e6477db",
   "metadata": {},
   "outputs": [
    {
     "data": {
      "text/plain": [
       "'null_rows_1 = data[data.isnull().any(axis=1)]\\n\\nwith pd.option_context(\\'display.max_rows\\', None, \\'display.max_columns\\', None):\\n    print(\"\\nRows with any null values:\")\\n    display(null_rows_1)'"
      ]
     },
     "execution_count": 40,
     "metadata": {},
     "output_type": "execute_result"
    }
   ],
   "source": [
    "# Display rows with any null values in the dataframe\n",
    "'''null_rows_1 = data[data.isnull().any(axis=1)]\n",
    "\n",
    "with pd.option_context('display.max_rows', None, 'display.max_columns', None):\n",
    "    print(\"\\nRows with any null values:\")\n",
    "    display(null_rows_1)'''"
   ]
  },
  {
   "cell_type": "code",
   "execution_count": 41,
   "id": "42ac70cc",
   "metadata": {},
   "outputs": [],
   "source": [
    "# List of rows with countries that have more than 5 consecutive years of missing data on key indicators\n",
    "rows_to_drop = ['Fragile and conflict affected situations', 'IDA blend', 'Not classified', 'Pre-demographic dividend', 'Aruba', \\\n",
    "                'Caribbean small states', \"Afghanistan\", \"Africa Western and Central\", \"Korea, Dem. People's Rep.\", \"American Samoa\", \\\n",
    "                \"Andorra\", \"Antigua and Barbuda\", \"Barbados\", \"British Virgin Islands\", \"Cayman Islands\", \"Channel Islands\", \\\n",
    "                \"Eswatini\", \"Faroe Islands\", \"Gibraltar\", \"Grenada\", \"Isle of Man\", \"Malawi\", \"Monaco\", \"Myanmar\", \"Nigeria\", \\\n",
    "                \"Northern Mariana Islands\", \"Papua New Guinea\", \"San Marino\", \"Sao Tome and Principe\", \"Sint Maarten (Dutch part)\", \\\n",
    "                \"South Sudan\", \"St. Kitts and Nevis\", \"St. Lucia\", \"St. Martin (French part)\", \"St. Vincent and the Grenadines\", \\\n",
    "                \"Suriname\", \"Turks and Caicos Islands\", \"Tuvalu\", \"Cabo Verde\", \"Cuba\", \"Eritrea\", \"Dominica\", \"Liberia\", \"French Polynesia\", \\\n",
    "                \"Cote d'Ivoire\", \"Djibouti\", \"Guam\", \"Guyana\", \"Kuwait\", \"Kosovo\", \"Bermuda\", \"Liechtenstein\", \"New Caledonia\", \\\n",
    "                \"Virgin Islands (U.S.)\", \"Venezuela, RB\", \"Nauru\", \"Palau\", \"Qatar\", \"Ethiopia\", \"Maldives\", \"Yemen, Rep.\", \\\n",
    "                \"Micronesia, Fed. Sts.\", \"Mozambique\", \"Russian Federation\", \"Somalia\", \"Trinidad and Tobago\", \"United Arab Emirates\", \\\n",
    "                \"Samoa\", \"Zambia\", \"Kiribati\", \"Lesotho\", \"Nicaragua\", \"Low income\", \"Greenland\", \"Haiti\", \"Lebanon\", \"Hong Kong SAR, China\", \\\n",
    "                \"Macao SAR, China\", \"Saudi Arabia\", \"Togo\", \"Uruguay\"]\n",
    "\n",
    "rows_to_drop_school = ['Algeria', 'Angola', 'Australia', 'Azerbaijan', 'Bahamas, The', 'Belarus', 'Benin', 'Bosnia and Herzegovina', \n",
    "                       'Botswana', 'Brazil', 'Cambodia', 'Central African Republic', 'China', 'Comoros', 'Congo, Dem. Rep.', 'Congo, Rep.', 'Curacao', \\\n",
    "                       'Equatorial Guinea', 'Gabon', 'Gambia, The', 'Guinea-Bissau', 'Honduras', 'Iraq', 'Japan', 'Kazakhstan', 'Kenya', 'Libya', \\\n",
    "                       'Moldova', 'Mongolia', 'Namibia', 'Puerto Rico', 'Sierra Leone', 'Solomon Islands', 'Singapore', 'Sri Lanka', \\\n",
    "                       'Syrian Arab Republic', 'Tajikistan', 'Tanzania', 'Turkmenistan', 'United States', 'Vanuatu', 'Viet Nam', 'Zimbabwe']\n",
    "\n",
    "# Drop rows due to lack of data on most fields\n",
    "clean_data = copy.deepcopy(data[~data['Country Name'].isin(rows_to_drop)]).reset_index(drop=True)\n",
    "clean_data = copy.deepcopy(clean_data[~clean_data['Country Name'].isin(rows_to_drop_school)]).reset_index(drop=True)"
   ]
  },
  {
   "cell_type": "code",
   "execution_count": 42,
   "id": "c27bf3b5",
   "metadata": {},
   "outputs": [],
   "source": [
    "# Select columns to be converted to numeric type\n",
    "columns_to_numeric = [\"Year\", \n",
    "                      \"Death rate, crude (per 1,000 people)\", \n",
    "                      \"Exports of goods and services (% of GDP)\", \n",
    "                      \"Fertility rate, total (births per woman)\", \n",
    "                      \"GDP per capita growth (annual %)\", \n",
    "                      \"GDP per capita, PPP (constant 2021 international $)\", \n",
    "                      \"General government final consumption expenditure (% of GDP)\", \n",
    "                      \"Gross fixed capital formation (% of GDP)\", \n",
    "                      \"Imports of goods and services (% of GDP)\", \n",
    "                      \"Life expectancy at birth, total (years)\", \n",
    "                      \"Mortality rate, adult, female (per 1,000 female adults)\", \n",
    "                      \"Mortality rate, adult, male (per 1,000 male adults)\", \n",
    "                      \"Population ages 15-64, female\", \n",
    "                      \"Population ages 15-64, male\", \n",
    "                      \"Population, total\", \n",
    "                      \"School enrollment, secondary (% gross)\", \n",
    "                      \"Mortality rate, infant (per 1,000 live births)\"]\n",
    "\n",
    "# Convert columns to numeric type\n",
    "for i in columns_to_numeric:\n",
    "    clean_data[i] = pd.to_numeric(clean_data[i], errors='coerce')\n"
   ]
  },
  {
   "cell_type": "code",
   "execution_count": 43,
   "id": "cbbdcce6",
   "metadata": {},
   "outputs": [],
   "source": [
    "# Select columns to interpolate\n",
    "columns_to_interpolate_forward = [\"Exports of goods and services (% of GDP)\", \n",
    "                                  \"General government final consumption expenditure (% of GDP)\", \n",
    "                                  \"Gross fixed capital formation (% of GDP)\", \n",
    "                                  \"Imports of goods and services (% of GDP)\", \n",
    "                                  \"Mortality rate, adult, female (per 1,000 female adults)\", \n",
    "                                  \"Mortality rate, adult, male (per 1,000 male adults)\",\n",
    "                                  \"School enrollment, secondary (% gross)\"]\n",
    "\n",
    "columns_to_interpolate_backward = [\"Exports of goods and services (% of GDP)\", \n",
    "                                   \"General government final consumption expenditure (% of GDP)\", \n",
    "                                   \"Gross fixed capital formation (% of GDP)\", \n",
    "                                   \"School enrollment, secondary (% gross)\"]\n",
    "\n",
    "# Interpolate missing values and reset index for proper assignment\n",
    "for i in columns_to_interpolate_forward:\n",
    "    clean_data[i] = (clean_data.groupby('Country Name')[i]\n",
    "        .apply(lambda group: group.interpolate(method='linear'))\n",
    "        .reset_index(level=0, drop=True)  # Drop the groupby index to align with the original DataFrame\n",
    "    )\n",
    "\n",
    "for i in columns_to_interpolate_backward:\n",
    "    clean_data[i] = (clean_data.groupby('Country Name')[i]\n",
    "        .apply(lambda group: group.interpolate(method='linear', limit_direction = 'backward'))\n",
    "        .reset_index(level=0, drop=True)  # Drop the groupby index to align with the original DataFrame\n",
    "    )"
   ]
  },
  {
   "cell_type": "code",
   "execution_count": 44,
   "id": "ec2490ba",
   "metadata": {},
   "outputs": [
    {
     "data": {
      "text/plain": [
       "'missing_values_per_column_2 = clean_data.isnull().sum()\\nprint(\"Missing values per column:\\n\", missing_values_per_column_2)'"
      ]
     },
     "execution_count": 44,
     "metadata": {},
     "output_type": "execute_result"
    }
   ],
   "source": [
    "# Check for missing values based on column\n",
    "'''missing_values_per_column_2 = clean_data.isnull().sum()\n",
    "print(\"Missing values per column:\\n\", missing_values_per_column_2)'''"
   ]
  },
  {
   "cell_type": "code",
   "execution_count": 45,
   "id": "61e26235",
   "metadata": {},
   "outputs": [],
   "source": [
    "# Create dataframe containg only OECD countries\n",
    "clean_OECD_data = copy.deepcopy(clean_data[clean_data['Country Name'].isin(OECDcountry_names_list)]).reset_index(drop=True)"
   ]
  },
  {
   "cell_type": "code",
   "execution_count": 46,
   "id": "91e58fb0",
   "metadata": {},
   "outputs": [],
   "source": [
    "# Iterate over each life expectancy dataframe and their respective names\n",
    "for df, column_name in life_expectancy_by_age_df_list_names:\n",
    "    # Merge on 'Country Name', 'Country Code', and 'Year'\n",
    "    # Ensure the columns exist in both dataframes\n",
    "    merged_df = pd.merge(clean_OECD_data, df[['Country Name', 'Country Code', 'Year', 'Value']],\n",
    "                         on=['Country Name', 'Country Code', 'Year'],\n",
    "                         how='left')\n",
    "    # Add the 'Value' from the life expectancy dataframe as a new column in clean_OECD_data\n",
    "    clean_OECD_data[column_name] = merged_df['Value']\n",
    "\n",
    "# Now clean_OECD_data will have additional columns for each life expectancy dataset."
   ]
  },
  {
   "cell_type": "code",
   "execution_count": 47,
   "id": "3216c0c1",
   "metadata": {},
   "outputs": [
    {
     "data": {
      "text/plain": [
       "'missing_values_per_column_3 = clean_OECD_data.isnull().sum()\\nprint(\"Missing values per column:\\n\", missing_values_per_column_3)'"
      ]
     },
     "execution_count": 47,
     "metadata": {},
     "output_type": "execute_result"
    }
   ],
   "source": [
    "# Check for missing values based on column\n",
    "'''missing_values_per_column_3 = clean_OECD_data.isnull().sum()\n",
    "print(\"Missing values per column:\\n\", missing_values_per_column_3)'''"
   ]
  },
  {
   "cell_type": "code",
   "execution_count": 48,
   "id": "5df77576",
   "metadata": {},
   "outputs": [
    {
     "data": {
      "text/plain": [
       "'null_rows_2 = clean_OECD_data[clean_OECD_data.isnull().any(axis=1)]\\n\\nwith pd.option_context(\\'display.max_rows\\', None, \\'display.max_columns\\', None):\\n    print(\"\\nRows with any null values:\")\\n    display(null_rows_2)'"
      ]
     },
     "execution_count": 48,
     "metadata": {},
     "output_type": "execute_result"
    }
   ],
   "source": [
    "# Display rows with any null values in the dataframe\n",
    "'''null_rows_2 = clean_OECD_data[clean_OECD_data.isnull().any(axis=1)]\n",
    "\n",
    "with pd.option_context('display.max_rows', None, 'display.max_columns', None):\n",
    "    print(\"\\nRows with any null values:\")\n",
    "    display(null_rows_2)'''"
   ]
  },
  {
   "cell_type": "code",
   "execution_count": 49,
   "id": "493c88fa",
   "metadata": {},
   "outputs": [],
   "source": [
    "# Drop 'Turkyie' for lack of data on life expectancy measures\n",
    "clean_OECD_data = copy.deepcopy(clean_OECD_data[~clean_OECD_data['Country Name'].isin(['Turkiye'])]).reset_index(drop=True)"
   ]
  },
  {
   "cell_type": "code",
   "execution_count": 50,
   "id": "04b61f2e",
   "metadata": {},
   "outputs": [
    {
     "data": {
      "text/plain": [
       "'null_rows_3 = clean_OECD_data[clean_OECD_data.isnull().any(axis=1)]\\n\\nwith pd.option_context(\\'display.max_rows\\', None, \\'display.max_columns\\', None):\\n    print(\"\\nRows with any null values:\")\\n    display(null_rows_3)'"
      ]
     },
     "execution_count": 50,
     "metadata": {},
     "output_type": "execute_result"
    }
   ],
   "source": [
    "# Display rows with any null values in the dataframe\n",
    "'''null_rows_3 = clean_OECD_data[clean_OECD_data.isnull().any(axis=1)]\n",
    "\n",
    "with pd.option_context('display.max_rows', None, 'display.max_columns', None):\n",
    "    print(\"\\nRows with any null values:\")\n",
    "    display(null_rows_3)'''"
   ]
  },
  {
   "cell_type": "code",
   "execution_count": 51,
   "id": "2b5f5ad4",
   "metadata": {},
   "outputs": [],
   "source": [
    "# Interpolate backward for the 2 rows with missing data (Lativa 2000, 2001):\n",
    "columns_to_interpolate_backward_2 = [\"Life Expectancy at 40 Female\", \n",
    "                                     \"Life Expectancy at 40 Male\", \n",
    "                                     \"Life Expectancy at 60 Female\", \n",
    "                                     \"Life Expectancy at 60 Male\", \n",
    "                                     \"Life Expectancy at 65 Female\", \n",
    "                                     \"Life Expectancy at 65 Male\", \n",
    "                                     \"Life Expectancy at 80 Female\", \n",
    "                                     \"Life Expectancy at 80 Male\"]\n",
    "\n",
    "for i in columns_to_interpolate_backward_2:\n",
    "    clean_OECD_data[i] = (clean_OECD_data.groupby('Country Name')[i]\n",
    "        .apply(lambda group: group.interpolate(method='linear', limit_direction = 'backward'))\n",
    "        .reset_index(level=0, drop=True)  # Drop the groupby index to align with the original DataFrame\n",
    "    )"
   ]
  },
  {
   "cell_type": "code",
   "execution_count": 52,
   "id": "bafe4d69",
   "metadata": {},
   "outputs": [],
   "source": [
    "# Find the index of the row where 'Country Name' is 'Africa Eastern and Southern' and 'Year' is 2000\n",
    "index = clean_data[(clean_data['Country Name'] == 'Africa Eastern and Southern') & (clean_data['Year'] == 2000)].index\n",
    "\n",
    "if not index.empty:\n",
    "    # Get the first index that meets the condition\n",
    "    split_index = index[0]\n",
    "    \n",
    "    # Create a dataframe including the 42 bigger regions \n",
    "    clean_regions_data_OG = copy.deepcopy(clean_data.iloc[split_index:].reset_index(drop=True))\n",
    "\n",
    "    # Create a dataframe with the 105 countries that have complete data\n",
    "    clean_countries_data_OG = copy.deepcopy(clean_data.iloc[:split_index].reset_index(drop=True))"
   ]
  },
  {
   "cell_type": "code",
   "execution_count": 53,
   "id": "dd539767",
   "metadata": {},
   "outputs": [],
   "source": [
    "# Display entire dataframe\n",
    "#with pd.option_context('display.max_rows', None, 'display.max_columns', None):\n",
    "#    display(clean_data)"
   ]
  },
  {
   "cell_type": "code",
   "execution_count": 54,
   "id": "6d56ed7a",
   "metadata": {},
   "outputs": [],
   "source": [
    "# Split the dataframe into 2 dataframes, based on GDP per capita PPP\n",
    "\n",
    "# Step 1: Calculate average GDP per country\n",
    "clean_countries_data = clean_countries_data_OG.copy()\n",
    "average_GDP = clean_countries_data_OG.groupby('Country Name')['GDP per capita, PPP (constant 2021 international $)'].mean().reset_index()\n",
    "average_GDP.rename(columns = {'GDP per capita, PPP (constant 2021 international $)' : 'Average_GDP'}, inplace = True)\n",
    "\n",
    "df = clean_countries_data.merge(average_GDP, on = 'Country Name')\n",
    "\n",
    "# Step 2: Split the DataFrame based on average GDP\n",
    "gdp_higher_than_4000 = df[df['Average_GDP'] > 4000].reset_index(drop = True)\n",
    "gdp_lower_than_4000 = df[df['Average_GDP'] <= 4000].reset_index(drop = True)\n",
    "\n",
    "clean_countries_data = copy.deepcopy(gdp_higher_than_4000)\n",
    "clean_countries_data_udev = copy.deepcopy(gdp_lower_than_4000)"
   ]
  },
  {
   "cell_type": "code",
   "execution_count": 55,
   "id": "f555d4dc",
   "metadata": {},
   "outputs": [
    {
     "name": "stdout",
     "output_type": "stream",
     "text": [
      "In list1 but not in list2: {'Japan', 'Turkiye', 'United States', 'Australia', \"Korea, Dem. People's Rep.\"}\n",
      "In list2 but not in list1: set()\n"
     ]
    }
   ],
   "source": [
    "# What OECD countries got left out\n",
    "# Create a list with the OECD countries that survived the pipeline\n",
    "list_OECD_names = clean_OECD_data['Country Name'].drop_duplicates().tolist()\n",
    "\n",
    "# Convert lists to sets\n",
    "set1 = set(OECDcountry_names_list)\n",
    "set2 = set(list_OECD_names)\n",
    "\n",
    "# Elements in list1 but not in list2\n",
    "diff1 = set1 - set2\n",
    "# Elements in list2 but not in list1\n",
    "diff2 = set2 - set1\n",
    "\n",
    "print(\"In list1 but not in list2:\", diff1)\n",
    "print(\"In list2 but not in list1:\", diff2)"
   ]
  },
  {
   "cell_type": "markdown",
   "id": "c170ae38",
   "metadata": {},
   "source": [
    "# Compute Necessary Indicators"
   ]
  },
  {
   "cell_type": "markdown",
   "id": "c5c298a0",
   "metadata": {},
   "source": [
    "## Mixed Dataset Underdeveloped Countries"
   ]
  },
  {
   "cell_type": "code",
   "execution_count": 56,
   "id": "79005f40",
   "metadata": {},
   "outputs": [],
   "source": [
    "Udev_Countries_mixed = clean_countries_data_udev[['Country Name']].copy()\n",
    "\n",
    "Udev_Countries_mixed_df = Udev_Countries_mixed.drop_duplicates().reset_index(drop = True)\n",
    "\n",
    "\n",
    "# Extract data for years 2000 and 2020\n",
    "filtered_data_2000_udev = clean_countries_data_udev[clean_countries_data_udev['Year'] == 2000].reset_index(drop = True)\n",
    "filtered_data_2020_udev = clean_countries_data_udev[clean_countries_data_udev['Year'] == 2020].reset_index(drop = True)\n",
    "\n",
    "### Step 1: Extract GDP per Capita Growth: GDP per capita growth (annual %): \n",
    "\n",
    "GDP_growth_2020_udev = filtered_data_2020_udev[['Country Name', 'GDP per capita growth (annual %)']].copy()\n",
    "\n",
    "### Step 2: Initial Life Expectancy Log:\n",
    "\n",
    "# Select 'Country Name' and 'Life expectancy' for the year 2000\n",
    "life_expectancy_2000_udev = filtered_data_2000_udev[['Country Name', 'Life expectancy at birth, total (years)']].copy()\n",
    "life_expectancy_log_2000_udev = life_expectancy_2000_udev.copy()\n",
    "life_expectancy_log_2000_udev.rename(columns={'Life expectancy at birth, total (years)': 'Initial Life Expectancy Log'}, inplace=True)\n",
    "\n",
    "# Compute Life Exp Log\n",
    "life_expectancy_log_2000_udev['Initial Life Expectancy Log'] = initial_life_exp_log_udev_var = np.log(life_expectancy_log_2000_udev['Initial Life Expectancy Log'])\n",
    "\n",
    "### Step 3: Growth of Life Expectancy:\n",
    "\n",
    "# Select 'Country Name' and 'Life expectancy' for the year 2020\n",
    "life_expectancy_2020_udev = filtered_data_2020_udev[['Country Name', 'Life expectancy at birth, total (years)']].copy()\n",
    "growth_life_expectancy_udev = life_expectancy_2020_udev.copy()\n",
    "growth_life_expectancy_udev.rename(columns={'Life expectancy at birth, total (years)': 'Growth of Life Expectancy'}, inplace=True)\n",
    "\n",
    "# Compute the life Expectancy growth\n",
    "growth_life_expectancy_udev['Growth of Life Expectancy'] = growth_life_exp_dev_var = ((growth_life_expectancy_udev['Growth of Life Expectancy'] - \\\n",
    "                                                                         life_expectancy_2000_udev['Life expectancy at birth, total (years)']) / \\\n",
    "                                                                         life_expectancy_2000_udev['Life expectancy at birth, total (years)']) * 100\n",
    "\n",
    "### Step 4: Initial GDP per Capita Log:\n",
    "\n",
    "# Select 'Country Name' and 'GDP per capita, PPP (constant 2021 international $)' for the year 2020\n",
    "GDP_capita_2000_udev = filtered_data_2000_udev[['Country Name', 'GDP per capita, PPP (constant 2021 international $)']].copy()\n",
    "GDP_capita_log_2000_udev = GDP_capita_2000_udev.copy()\n",
    "GDP_capita_log_2000_udev.rename(columns={'GDP per capita, PPP (constant 2021 international $)': 'Initial GDP per Capita Log'}, inplace=True)\n",
    "\n",
    "#Compute the Initial GDP per Capita Log\n",
    "GDP_capita_log_2000_udev['Initial GDP per Capita Log'] = GDP_log_2000_udev_var = np.log(GDP_capita_log_2000_udev['Initial GDP per Capita Log'])\n",
    "\n",
    "### Step 5: Initial Adult Mortality Rate:\n",
    "adult_female_mort_2000_udev = filtered_data_2000_udev[['Country Name', 'Mortality rate, adult, female (per 1,000 female adults)']].copy()\n",
    "adult_male_mort_2000_udev = filtered_data_2000_udev[['Country Name', 'Mortality rate, adult, male (per 1,000 male adults)']].copy()\n",
    "female_population_2000_udev = filtered_data_2000_udev[['Country Name', 'Population ages 15-64, female']].copy()\n",
    "male_population_2000_udev = filtered_data_2000_udev[['Country Name', 'Population ages 15-64, male']].copy()\n",
    "\n",
    "adult_mort_rate_2000_udev = adult_male_mort_2000_udev.copy()\n",
    "\n",
    "adult_mort_rate_2000_udev.rename(columns={'Mortality rate, adult, male (per 1,000 male adults)': 'Average Adult Mortality Rate'}, inplace=True)\n",
    "adult_female_mort_2000_udev.rename(columns={'Mortality rate, adult, female (per 1,000 female adults)': 'female'}, inplace=True)\n",
    "adult_male_mort_2000_udev.rename(columns={'Mortality rate, adult, male (per 1,000 male adults)': 'male'}, inplace=True)\n",
    "female_population_2000_udev.rename(columns={'Population ages 15-64, female': 'fpop'}, inplace=True)\n",
    "male_population_2000_udev.rename(columns={'Population ages 15-64, male': 'mpop'}, inplace=True)\n",
    "\n",
    "# Compute the Initial Adult Mortality Rate (Weighted)\n",
    "adult_mort_rate_2000_udev['Initial Adult Mortality 2000'] = adult_mort_rate_2000_udev_var = ((adult_female_mort_2000_udev['female'] * female_population_2000_udev['fpop'])\\\n",
    "                                                                                         + (adult_male_mort_2000_udev['male'] * male_population_2000_udev['mpop']))\\\n",
    "                                                                                         / (female_population_2000_udev['fpop'] + male_population_2000_udev['mpop'])\n",
    "\n",
    "### Step 6: Average Adult Mortality:\n",
    "adult_female_mort_udev = clean_countries_data_udev[['Country Name', 'Mortality rate, adult, female (per 1,000 female adults)']].copy()\n",
    "adult_male_mort_udev = clean_countries_data_udev[['Country Name', 'Mortality rate, adult, male (per 1,000 male adults)']].copy()\n",
    "female_population_udev = clean_countries_data_udev[['Country Name', 'Population ages 15-64, female']].copy()\n",
    "male_population_udev = clean_countries_data_udev[['Country Name', 'Population ages 15-64, male']].copy()\n",
    "\n",
    "adult_mort_rate_udev = adult_male_mort_udev.copy()\n",
    "\n",
    "adult_mort_rate_udev.rename(columns={'Mortality rate, adult, male (per 1,000 male adults)': 'Average Adult Mortality Rate'}, inplace=True)\n",
    "adult_female_mort_udev.rename(columns={'Mortality rate, adult, female (per 1,000 female adults)': 'female'}, inplace=True)\n",
    "adult_male_mort_udev.rename(columns={'Mortality rate, adult, male (per 1,000 male adults)': 'male'}, inplace=True)\n",
    "female_population_udev.rename(columns={'Population ages 15-64, female': 'fpop'}, inplace=True)\n",
    "male_population_udev.rename(columns={'Population ages 15-64, male': 'mpop'}, inplace=True)\n",
    "\n",
    "# Compute the Average Adult Mortality Rate (Weighted)\n",
    "adult_mort_rate_udev['Average Adult Mortality Rate'] = adult_mort_rate_udev_var = ((adult_female_mort_udev['female'] * female_population_udev['fpop'])\\\n",
    "                                                                                         + (adult_male_mort_udev['male'] * male_population_udev['mpop']))\\\n",
    "                                                                                         / (female_population_udev['fpop'] + male_population_udev['mpop'])\n",
    "\n",
    "average_adult_mort_rate_udev = adult_mort_rate_udev.groupby('Country Name')['Average Adult Mortality Rate'].mean().reset_index()\n",
    "average_adult_mort_rate_udev.rename(columns={'Average Adult Mortality Rate 2000': 'Average Adult Mortality Rate'}, inplace=True)\n",
    "\n",
    "### Step 7: Average Infant Mortality:\n",
    "infant_mort_rate_udev = clean_countries_data_udev[['Country Name', 'Mortality rate, infant (per 1,000 live births)']].copy()\n",
    "average_infant_mort_rate_udev = infant_mort_rate_udev.groupby('Country Name')['Mortality rate, infant (per 1,000 live births)'].mean().reset_index()\n",
    "average_infant_mort_rate_udev.rename(columns={'Mortality rate, infant (per 1,000 live births)': 'Average Infant Mortality Rate'}, inplace=True)\n",
    "\n",
    "##& Step 8: Initial Infant Mortality Rate:\n",
    "\n",
    "# Select 'Country Name' and 'Mortality rate, infant (per 1,000 live births)' for the year 2000\n",
    "infant_mort_rate_2000_udev = filtered_data_2000_udev[['Country Name', 'Mortality rate, infant (per 1,000 live births)']].copy()\n",
    "infant_mort_rate_2000_udev.rename(columns={'Mortality rate, infant (per 1,000 live births)': 'Initial Infant Mortality 2000'}, inplace=True)\n",
    "\n",
    "### Step 9: Initial Adult Mortality Rate:\n",
    "\n",
    "# Select 'Country Name' and 'Mortality rate, adult, female (per 1,000 female adults)', 'Mortality rate, adult, male (per 1,000 male adults)' for the year 2000\n",
    "adult_female_mort_2000_udev = filtered_data_2000_udev[['Country Name', 'Mortality rate, adult, female (per 1,000 female adults)']].copy()\n",
    "adult_male_mort_2000_udev = filtered_data_2000_udev[['Country Name', 'Mortality rate, adult, male (per 1,000 male adults)']].copy()\n",
    "female_population_2000_udev = filtered_data_2000_udev[['Country Name', 'Population ages 15-64, female']].copy()\n",
    "male_population_2000_udev = filtered_data_2000_udev[['Country Name', 'Population ages 15-64, male']].copy()\n",
    "\n",
    "adult_mort_rate_2000_udev = adult_male_mort_2000_udev.copy()\n",
    "\n",
    "adult_female_mort_2000_udev.rename(columns={'Mortality rate, adult, female (per 1,000 female adults)': 'female'}, inplace=True)\n",
    "adult_male_mort_2000_udev.rename(columns={'Mortality rate, adult, male (per 1,000 male adults)': 'male'}, inplace=True)\n",
    "adult_mort_rate_2000_udev.rename(columns={'Mortality rate, adult, male (per 1,000 male adults)': 'Initial Adult Mortality 2000'}, inplace=True)\n",
    "female_population_2000_udev.rename(columns={'Population ages 15-64, female': 'fpop'}, inplace=True)\n",
    "male_population_2000_udev.rename(columns={'Population ages 15-64, male': 'mpop'}, inplace=True)\n",
    "\n",
    "# Append the new DataFrame to the existing one\n",
    "dataframes_to_merge_1 = [GDP_growth_2020_udev, life_expectancy_log_2000_udev, growth_life_expectancy_udev, GDP_capita_log_2000_udev, average_adult_mort_rate_udev, \\\n",
    "                     average_infant_mort_rate_udev, infant_mort_rate_2000_udev, adult_mort_rate_2000_udev]\n",
    "\n",
    "for df in dataframes_to_merge_1:\n",
    "    Udev_Countries_mixed_df = pd.merge(Udev_Countries_mixed_df, df, on=['Country Name'], how='left')\n",
    "\n",
    "# Save to csv file\n",
    "Udev_Countries_mixed_df.to_csv('udev_mixed.csv', index = False)"
   ]
  },
  {
   "cell_type": "markdown",
   "id": "47f910b1",
   "metadata": {},
   "source": [
    "## Mixed Dataset Developed and Developing Countries"
   ]
  },
  {
   "cell_type": "code",
   "execution_count": 57,
   "id": "6e75503f",
   "metadata": {},
   "outputs": [],
   "source": [
    "Dev_Countries_mixed = clean_countries_data[['Country Name']].copy()\n",
    "\n",
    "Dev_Countries_mixed_df = Dev_Countries_mixed.drop_duplicates().reset_index(drop = True)\n",
    "\n",
    "\n",
    "# Extract data for years 2000 and 2020\n",
    "filtered_data_2000_dev = clean_countries_data[clean_countries_data['Year'] == 2000].reset_index(drop = True)\n",
    "filtered_data_2020_dev = clean_countries_data[clean_countries_data['Year'] == 2020].reset_index(drop = True)\n",
    "\n",
    "### Step 1: Extract GDP per Capita Growth: GDP per capita growth (annual %): \n",
    "\n",
    "GDP_growth_2020_dev = filtered_data_2020_dev[['Country Name', 'GDP per capita growth (annual %)']].copy()\n",
    "\n",
    "### Step 2: Initial Life Expectancy Log:\n",
    "\n",
    "# Select 'Country Name' and 'Life expectancy' for the year 2000\n",
    "life_expectancy_2000_dev = filtered_data_2000_dev[['Country Name', 'Life expectancy at birth, total (years)']].copy()\n",
    "life_expectancy_log_2000_dev = life_expectancy_2000_dev.copy()\n",
    "life_expectancy_log_2000_dev.rename(columns={'Life expectancy at birth, total (years)': 'Initial Life Expectancy Log'}, inplace=True)\n",
    "\n",
    "# Compute Life Exp Log\n",
    "life_expectancy_log_2000_dev['Initial Life Expectancy Log'] = initial_life_exp_log_dev_var = np.log(life_expectancy_log_2000_dev['Initial Life Expectancy Log'])\n",
    "\n",
    "### Step 3: Growth of Life Expectancy:\n",
    "\n",
    "# Select 'Country Name' and 'Life expectancy' for the year 2020\n",
    "life_expectancy_2020_dev = filtered_data_2020_dev[['Country Name', 'Life expectancy at birth, total (years)']].copy()\n",
    "growth_life_expectancy_dev = life_expectancy_2020_dev.copy()\n",
    "growth_life_expectancy_dev.rename(columns={'Life expectancy at birth, total (years)': 'Growth of Life Expectancy'}, inplace=True)\n",
    "\n",
    "# Compute the life Expectancy growth\n",
    "growth_life_expectancy_dev['Growth of Life Expectancy'] = growth_life_exp_dev_var = ((growth_life_expectancy_dev['Growth of Life Expectancy'] - \\\n",
    "                                                                         life_expectancy_2000_dev['Life expectancy at birth, total (years)']) / \\\n",
    "                                                                         life_expectancy_2000_dev['Life expectancy at birth, total (years)']) * 100\n",
    "\n",
    "### Step 4: Initial GDP per Capita Log:\n",
    "\n",
    "# Select 'Country Name' and 'GDP per capita, PPP (constant 2021 international $)' for the year 2020\n",
    "GDP_capita_2000_dev = filtered_data_2000_dev[['Country Name', 'GDP per capita, PPP (constant 2021 international $)']].copy()\n",
    "GDP_capita_log_2000_dev = GDP_capita_2000_dev.copy()\n",
    "GDP_capita_log_2000_dev.rename(columns={'GDP per capita, PPP (constant 2021 international $)': 'Initial GDP per Capita Log'}, inplace=True)\n",
    "\n",
    "#Compute the Initial GDP per Capita Log\n",
    "GDP_capita_log_2000_dev['Initial GDP per Capita Log'] = GDP_log_2000_dev_var = np.log(GDP_capita_log_2000_dev['Initial GDP per Capita Log'])\n",
    "\n",
    "### Step 5: Initial Adult Mortality Rate:\n",
    "adult_female_mort_2000_dev = filtered_data_2000_dev[['Country Name', 'Mortality rate, adult, female (per 1,000 female adults)']].copy()\n",
    "adult_male_mort_2000_dev = filtered_data_2000_dev[['Country Name', 'Mortality rate, adult, male (per 1,000 male adults)']].copy()\n",
    "female_population_2000_dev = filtered_data_2000_dev[['Country Name', 'Population ages 15-64, female']].copy()\n",
    "male_population_2000_dev = filtered_data_2000_dev[['Country Name', 'Population ages 15-64, male']].copy()\n",
    "\n",
    "adult_mort_rate_2000_dev = adult_male_mort_2000_dev.copy()\n",
    "\n",
    "adult_mort_rate_2000_dev.rename(columns={'Mortality rate, adult, male (per 1,000 male adults)': 'Average Adult Mortality Rate'}, inplace=True)\n",
    "adult_female_mort_2000_dev.rename(columns={'Mortality rate, adult, female (per 1,000 female adults)': 'female'}, inplace=True)\n",
    "adult_male_mort_2000_dev.rename(columns={'Mortality rate, adult, male (per 1,000 male adults)': 'male'}, inplace=True)\n",
    "female_population_2000_dev.rename(columns={'Population ages 15-64, female': 'fpop'}, inplace=True)\n",
    "male_population_2000_dev.rename(columns={'Population ages 15-64, male': 'mpop'}, inplace=True)\n",
    "\n",
    "# Compute the Initial Adult Mortality Rate (Weighted)\n",
    "adult_mort_rate_2000_dev['Initial Adult Mortality 2000'] = adult_mort_rate_2000_dev_var = ((adult_female_mort_2000_dev['female'] * female_population_2000_dev['fpop'])\\\n",
    "                                                                                         + (adult_male_mort_2000_dev['male'] * male_population_2000_dev['mpop']))\\\n",
    "                                                                                         / (female_population_2000_dev['fpop'] + male_population_2000_dev['mpop'])\n",
    "\n",
    "### Step 6: Average Adult Mortality:\n",
    "adult_female_mort_dev = clean_countries_data[['Country Name', 'Mortality rate, adult, female (per 1,000 female adults)']].copy()\n",
    "adult_male_mort_dev = clean_countries_data[['Country Name', 'Mortality rate, adult, male (per 1,000 male adults)']].copy()\n",
    "female_population_dev = clean_countries_data[['Country Name', 'Population ages 15-64, female']].copy()\n",
    "male_population_dev = clean_countries_data[['Country Name', 'Population ages 15-64, male']].copy()\n",
    "\n",
    "adult_mort_rate_dev = adult_male_mort_dev.copy()\n",
    "\n",
    "adult_mort_rate_dev.rename(columns={'Mortality rate, adult, male (per 1,000 male adults)': 'Average Adult Mortality Rate'}, inplace=True)\n",
    "adult_female_mort_dev.rename(columns={'Mortality rate, adult, female (per 1,000 female adults)': 'female'}, inplace=True)\n",
    "adult_male_mort_dev.rename(columns={'Mortality rate, adult, male (per 1,000 male adults)': 'male'}, inplace=True)\n",
    "female_population_dev.rename(columns={'Population ages 15-64, female': 'fpop'}, inplace=True)\n",
    "male_population_dev.rename(columns={'Population ages 15-64, male': 'mpop'}, inplace=True)\n",
    "\n",
    "# Compute the Average Adult Mortality Rate (Weighted)\n",
    "adult_mort_rate_dev['Average Adult Mortality Rate'] = adult_mort_rate_dev_var = ((adult_female_mort_dev['female'] * female_population_dev['fpop'])\\\n",
    "                                                                                         + (adult_male_mort_dev['male'] * male_population_dev['mpop']))\\\n",
    "                                                                                         / (female_population_dev['fpop'] + male_population_dev['mpop'])\n",
    "\n",
    "average_adult_mort_rate_dev = adult_mort_rate_dev.groupby('Country Name')['Average Adult Mortality Rate'].mean().reset_index()\n",
    "average_adult_mort_rate_dev.rename(columns={'Average Adult Mortality Rate 2000': 'Average Adult Mortality Rate'}, inplace=True)\n",
    "\n",
    "### Step 7: Average Infant Mortality:\n",
    "infant_mort_rate_dev = clean_countries_data[['Country Name', 'Mortality rate, infant (per 1,000 live births)']].copy()\n",
    "average_infant_mort_rate_dev = infant_mort_rate_dev.groupby('Country Name')['Mortality rate, infant (per 1,000 live births)'].mean().reset_index()\n",
    "average_infant_mort_rate_dev.rename(columns={'Mortality rate, infant (per 1,000 live births)': 'Average Infant Mortality Rate'}, inplace=True)\n",
    "\n",
    "##& Step 8: Initial Infant Mortality Rate:\n",
    "\n",
    "# Select 'Country Name' and 'Mortality rate, infant (per 1,000 live births)' for the year 2000\n",
    "infant_mort_rate_2000_dev = filtered_data_2000_dev[['Country Name', 'Mortality rate, infant (per 1,000 live births)']].copy()\n",
    "infant_mort_rate_2000_dev.rename(columns={'Mortality rate, infant (per 1,000 live births)': 'Initial Infant Mortality 2000'}, inplace=True)\n",
    "\n",
    "### Step 9: Initial Adult Mortality Rate:\n",
    "\n",
    "# Select 'Country Name' and 'Mortality rate, adult, female (per 1,000 female adults)', 'Mortality rate, adult, male (per 1,000 male adults)' for the year 2000\n",
    "adult_female_mort_2000_dev = filtered_data_2000_dev[['Country Name', 'Mortality rate, adult, female (per 1,000 female adults)']].copy()\n",
    "adult_male_mort_2000_dev = filtered_data_2000_dev[['Country Name', 'Mortality rate, adult, male (per 1,000 male adults)']].copy()\n",
    "female_population_2000_dev = filtered_data_2000_dev[['Country Name', 'Population ages 15-64, female']].copy()\n",
    "male_population_2000_dev = filtered_data_2000_dev[['Country Name', 'Population ages 15-64, male']].copy()\n",
    "\n",
    "adult_mort_rate_2000_dev = adult_male_mort_2000_dev.copy()\n",
    "\n",
    "adult_female_mort_2000_dev.rename(columns={'Mortality rate, adult, female (per 1,000 female adults)': 'female'}, inplace=True)\n",
    "adult_male_mort_2000_dev.rename(columns={'Mortality rate, adult, male (per 1,000 male adults)': 'male'}, inplace=True)\n",
    "adult_mort_rate_2000_dev.rename(columns={'Mortality rate, adult, male (per 1,000 male adults)': 'Initial Adult Mortality 2000'}, inplace=True)\n",
    "female_population_2000_dev.rename(columns={'Population ages 15-64, female': 'fpop'}, inplace=True)\n",
    "male_population_2000_dev.rename(columns={'Population ages 15-64, male': 'mpop'}, inplace=True)\n",
    "\n",
    "# Append the new DataFrame to the existing one\n",
    "dataframes_to_merge_2 = [GDP_growth_2020_dev, life_expectancy_log_2000_dev, growth_life_expectancy_dev, GDP_capita_log_2000_dev, average_adult_mort_rate_dev, \\\n",
    "                     average_infant_mort_rate_dev, infant_mort_rate_2000_dev, adult_mort_rate_2000_dev]\n",
    "\n",
    "for df in dataframes_to_merge_2:\n",
    "    Dev_Countries_mixed_df = pd.merge(Dev_Countries_mixed_df, df, on=['Country Name'], how='left')\n",
    "\n",
    "# Save to csv file\n",
    "Dev_Countries_mixed_df.to_csv('dev_mixed.csv', index = False)"
   ]
  },
  {
   "cell_type": "markdown",
   "id": "de11a019",
   "metadata": {},
   "source": [
    "## Mixed Dataset OECD"
   ]
  },
  {
   "cell_type": "code",
   "execution_count": 58,
   "id": "360ecd40",
   "metadata": {},
   "outputs": [],
   "source": [
    "OECD_mixed = clean_OECD_data[['Country Name']].copy()\n",
    "\n",
    "OECD_mixed_df = OECD_mixed.drop_duplicates().reset_index(drop = True)\n",
    "\n",
    "\n",
    "# Extract data for years 2000 and 2020\n",
    "filtered_data_2000 = clean_OECD_data[clean_OECD_data['Year'] == 2000].reset_index(drop = True)\n",
    "filtered_data_2020 = clean_OECD_data[clean_OECD_data['Year'] == 2020].reset_index(drop = True)\n",
    "\n",
    "### Step 1: Extract GDP per Capita Growth: GDP per capita growth (annual %): \n",
    "\n",
    "GDP_growth_2020 = filtered_data_2020[['Country Name', 'GDP per capita growth (annual %)']].copy()\n",
    "\n",
    "### Step 2: Initial Life Expectancy Log:\n",
    "\n",
    "# Select 'Country Name' and 'Life expectancy' for the year 2000\n",
    "life_expectancy_2000 = filtered_data_2000[['Country Name', 'Life expectancy at birth, total (years)']].copy()\n",
    "life_expectancy_log_2000 = life_expectancy_2000.copy()\n",
    "life_expectancy_log_2000.rename(columns={'Life expectancy at birth, total (years)': 'Initial Life Expectancy Log'}, inplace=True)\n",
    "\n",
    "# Compute Life Exp Log\n",
    "life_expectancy_log_2000['Initial Life Expectancy Log'] = initial_life_exp_log_var = np.log(life_expectancy_log_2000['Initial Life Expectancy Log'])\n",
    "\n",
    "### Step 3: Growth of Life Expectancy:\n",
    "\n",
    "# Select 'Country Name' and 'Life expectancy' for the year 2020\n",
    "life_expectancy_2020 = filtered_data_2020[['Country Name', 'Life expectancy at birth, total (years)']].copy()\n",
    "growth_life_expectancy = life_expectancy_2020.copy()\n",
    "growth_life_expectancy.rename(columns={'Life expectancy at birth, total (years)': 'Growth of Life Expectancy'}, inplace=True)\n",
    "\n",
    "# Compute the life Expectancy growth\n",
    "growth_life_expectancy['Growth of Life Expectancy'] = growth_life_exp_var = ((growth_life_expectancy['Growth of Life Expectancy'] - \\\n",
    "                                                                         life_expectancy_2000['Life expectancy at birth, total (years)']) / \\\n",
    "                                                                         life_expectancy_2000['Life expectancy at birth, total (years)']) * 100\n",
    "\n",
    "### Step 4: Initial GDP per Capita Log:\n",
    "\n",
    "# Select 'Country Name' and 'GDP per capita, PPP (constant 2021 international $)' for the year 2020\n",
    "GDP_capita_2000 = filtered_data_2000[['Country Name', 'GDP per capita, PPP (constant 2021 international $)']].copy()\n",
    "GDP_capita_log_2000 = GDP_capita_2000.copy()\n",
    "GDP_capita_log_2000.rename(columns={'GDP per capita, PPP (constant 2021 international $)': 'Initial GDP per Capita Log'}, inplace=True)\n",
    "\n",
    "#Compute the Initial GDP per Capita Log\n",
    "GDP_capita_log_2000['Initial GDP per Capita Log'] = GDP_log_2000_var = np.log(GDP_capita_log_2000['Initial GDP per Capita Log'])\n",
    "\n",
    "### Step 5: Initial Adult Mortality Rate:\n",
    "adult_female_mort_2000 = filtered_data_2000[['Country Name', 'Mortality rate, adult, female (per 1,000 female adults)']].copy()\n",
    "adult_male_mort_2000 = filtered_data_2000[['Country Name', 'Mortality rate, adult, male (per 1,000 male adults)']].copy()\n",
    "female_population_2000 = filtered_data_2000[['Country Name', 'Population ages 15-64, female']].copy()\n",
    "male_population_2000 = filtered_data_2000[['Country Name', 'Population ages 15-64, male']].copy()\n",
    "\n",
    "adult_mort_rate_2000 = adult_male_mort_2000.copy()\n",
    "\n",
    "adult_mort_rate_2000.rename(columns={'Mortality rate, adult, male (per 1,000 male adults)': 'Average Adult Mortality Rate'}, inplace=True)\n",
    "adult_female_mort_2000.rename(columns={'Mortality rate, adult, female (per 1,000 female adults)': 'female'}, inplace=True)\n",
    "adult_male_mort_2000.rename(columns={'Mortality rate, adult, male (per 1,000 male adults)': 'male'}, inplace=True)\n",
    "female_population_2000.rename(columns={'Population ages 15-64, female': 'fpop'}, inplace=True)\n",
    "male_population_2000.rename(columns={'Population ages 15-64, male': 'mpop'}, inplace=True)\n",
    "\n",
    "# Compute the Initial Adult Mortality Rate (Weighted)\n",
    "adult_mort_rate_2000['Initial Adult Mortality 2000'] = adult_mort_rate_2000_var = ((adult_female_mort_2000['female'] * female_population_2000['fpop'])\\\n",
    "                                                                                         + (adult_male_mort_2000['male'] * male_population_2000['mpop']))\\\n",
    "                                                                                         / (female_population_2000['fpop'] + male_population_2000['mpop'])\n",
    "\n",
    "### Step 6: Average Adult Mortality:\n",
    "adult_female_mort = clean_OECD_data[['Country Name', 'Mortality rate, adult, female (per 1,000 female adults)']].copy()\n",
    "adult_male_mort = clean_OECD_data[['Country Name', 'Mortality rate, adult, male (per 1,000 male adults)']].copy()\n",
    "female_population = clean_OECD_data[['Country Name', 'Population ages 15-64, female']].copy()\n",
    "male_population = clean_OECD_data[['Country Name', 'Population ages 15-64, male']].copy()\n",
    "\n",
    "adult_mort_rate = adult_male_mort.copy()\n",
    "\n",
    "adult_mort_rate.rename(columns={'Mortality rate, adult, male (per 1,000 male adults)': 'Average Adult Mortality Rate'}, inplace=True)\n",
    "adult_female_mort.rename(columns={'Mortality rate, adult, female (per 1,000 female adults)': 'female'}, inplace=True)\n",
    "adult_male_mort.rename(columns={'Mortality rate, adult, male (per 1,000 male adults)': 'male'}, inplace=True)\n",
    "female_population.rename(columns={'Population ages 15-64, female': 'fpop'}, inplace=True)\n",
    "male_population.rename(columns={'Population ages 15-64, male': 'mpop'}, inplace=True)\n",
    "\n",
    "# Compute the Average Adult Mortality Rate (Weighted)\n",
    "adult_mort_rate['Average Adult Mortality Rate'] = adult_mort_rate_var = ((adult_female_mort['female'] * female_population['fpop'])\\\n",
    "                                                                                         + (adult_male_mort['male'] * male_population['mpop']))\\\n",
    "                                                                                         / (female_population['fpop'] + male_population['mpop'])\n",
    "\n",
    "average_adult_mort_rate = adult_mort_rate.groupby('Country Name')['Average Adult Mortality Rate'].mean().reset_index()\n",
    "average_adult_mort_rate.rename(columns={'Average Adult Mortality Rate 2000': 'Average Adult Mortality Rate'}, inplace=True)\n",
    "\n",
    "### Step 7: Average Infant Mortality:\n",
    "infant_mort_rate = clean_OECD_data[['Country Name', 'Mortality rate, infant (per 1,000 live births)']].copy()\n",
    "average_infant_mort_rate = infant_mort_rate.groupby('Country Name')['Mortality rate, infant (per 1,000 live births)'].mean().reset_index()\n",
    "average_infant_mort_rate.rename(columns={'Mortality rate, infant (per 1,000 live births)': 'Average Infant Mortality Rate'}, inplace=True)\n",
    "\n",
    "##& Step 8: Initial Infant Mortality Rate:\n",
    "\n",
    "# Select 'Country Name' and 'Mortality rate, infant (per 1,000 live births)' for the year 2000\n",
    "infant_mort_rate_2000 = filtered_data_2000[['Country Name', 'Mortality rate, infant (per 1,000 live births)']].copy()\n",
    "infant_mort_rate_2000.rename(columns={'Mortality rate, infant (per 1,000 live births)': 'Initial Infant Mortality 2000'}, inplace=True)\n",
    "\n",
    "### Step 9: Initial Adult Mortality Rate:\n",
    "\n",
    "# Select 'Country Name' and 'Mortality rate, adult, female (per 1,000 female adults)', 'Mortality rate, adult, male (per 1,000 male adults)' for the year 2000\n",
    "adult_female_mort_2000 = filtered_data_2000[['Country Name', 'Mortality rate, adult, female (per 1,000 female adults)']].copy()\n",
    "adult_male_mort_2000 = filtered_data_2000[['Country Name', 'Mortality rate, adult, male (per 1,000 male adults)']].copy()\n",
    "female_population_2000 = filtered_data_2000[['Country Name', 'Population ages 15-64, female']].copy()\n",
    "male_population_2000 = filtered_data_2000[['Country Name', 'Population ages 15-64, male']].copy()\n",
    "\n",
    "adult_mort_rate_2000 = adult_male_mort_2000.copy()\n",
    "\n",
    "adult_female_mort_2000.rename(columns={'Mortality rate, adult, female (per 1,000 female adults)': 'female'}, inplace=True)\n",
    "adult_male_mort_2000.rename(columns={'Mortality rate, adult, male (per 1,000 male adults)': 'male'}, inplace=True)\n",
    "adult_mort_rate_2000.rename(columns={'Mortality rate, adult, male (per 1,000 male adults)': 'Initial Adult Mortality 2000'}, inplace=True)\n",
    "female_population_2000.rename(columns={'Population ages 15-64, female': 'fpop'}, inplace=True)\n",
    "male_population_2000.rename(columns={'Population ages 15-64, male': 'mpop'}, inplace=True)\n",
    "\n",
    "# Append the new DataFrame to the existing one\n",
    "dataframes_to_merge_3 = [GDP_growth_2020, life_expectancy_log_2000, growth_life_expectancy, GDP_capita_log_2000, average_adult_mort_rate, \\\n",
    "                     average_infant_mort_rate, infant_mort_rate_2000, adult_mort_rate_2000]\n",
    "\n",
    "for df in dataframes_to_merge_3:\n",
    "    OECD_mixed_df = pd.merge(OECD_mixed_df, df, on=['Country Name'], how='left')\n",
    "\n",
    "# Save to csv file\n",
    "OECD_mixed_df.to_csv('OECD_mixed.csv', index = False)"
   ]
  },
  {
   "cell_type": "markdown",
   "id": "9578205e",
   "metadata": {},
   "source": [
    "## Annual Life Expectancy Dataset"
   ]
  },
  {
   "cell_type": "code",
   "execution_count": 59,
   "id": "ce32f100",
   "metadata": {},
   "outputs": [],
   "source": [
    "OECD_annual_life_expectancy_df = clean_OECD_data[['Country Name', 'Year']].copy()"
   ]
  },
  {
   "cell_type": "code",
   "execution_count": 60,
   "id": "30366f02",
   "metadata": {},
   "outputs": [],
   "source": [
    "filtered_life_expectancy_data_OECD = clean_OECD_data[['Country Name', 'Year', 'Life Expectancy at 40 Female', 'Life Expectancy at 40 Male', \n",
    "                                                      'Life Expectancy at 60 Female', 'Life Expectancy at 60 Male', 'Life Expectancy at 65 Female', \n",
    "                                                      'Life Expectancy at 65 Male', 'Life Expectancy at 80 Female', 'Life Expectancy at 80 Male']\n",
    "                                                      ].reset_index(drop=True)"
   ]
  },
  {
   "cell_type": "code",
   "execution_count": 61,
   "id": "d10c3115",
   "metadata": {},
   "outputs": [],
   "source": [
    "### Step 1: Extract GDP per capita:\n",
    "GDP_per_capita = clean_OECD_data[['Country Name', 'Year', 'GDP per capita, PPP (constant 2021 international $)']].copy()\n",
    "GDP_per_capita.rename(columns = {'GDP per capita, PPP (constant 2021 international $)' : 'Log of GDP per capita'}, inplace = True)\n",
    "GDP_per_capita_log = GDP_per_capita.copy()\n",
    "\n",
    "# Compute Log of GDP per capita:\n",
    "GDP_per_capita_log['Log of GDP per capita'] = GDP_per_capita_log_var = np.log(GDP_per_capita_log['Log of GDP per capita'])\n",
    "\n",
    "\n",
    "### Step 2: Extract each indicator for life expectancy:\n",
    "le_0_total = clean_OECD_data[['Country Name', 'Year', 'Life expectancy at birth, total (years)']].copy()\n",
    "le_40_female = clean_OECD_data[['Country Name', 'Year', 'Life Expectancy at 40 Female']].copy()\n",
    "le_40_male = clean_OECD_data[['Country Name', 'Year', 'Life Expectancy at 40 Male']].copy()\n",
    "le_60_female = clean_OECD_data[['Country Name', 'Year', 'Life Expectancy at 60 Female']].copy()\n",
    "le_60_male = clean_OECD_data[['Country Name', 'Year', 'Life Expectancy at 60 Male']].copy()\n",
    "le_65_female = clean_OECD_data[['Country Name', 'Year', 'Life Expectancy at 65 Female']].copy()\n",
    "le_65_male = clean_OECD_data[['Country Name', 'Year', 'Life Expectancy at 65 Male']].copy()\n",
    "le_80_female = clean_OECD_data[['Country Name', 'Year', 'Life Expectancy at 80 Female']].copy()\n",
    "le_80_male = clean_OECD_data[['Country Name', 'Year', 'Life Expectancy at 80 Male']].copy()\n",
    "\n",
    "le_0_total.rename(columns={'Life expectancy at birth, total (years)': 't0'}, inplace=True)\n",
    "le_40_female.rename(columns={'Life Expectancy at 40 Female': 'f40'}, inplace=True)\n",
    "le_40_male.rename(columns={'Life Expectancy at 40 Male': 'm40'}, inplace=True)\n",
    "le_60_female.rename(columns={'Life Expectancy at 60 Female': 'f60'}, inplace=True)\n",
    "le_60_male.rename(columns={'Life Expectancy at 60 Male': 'm60'}, inplace=True)\n",
    "le_65_female.rename(columns={'Life Expectancy at 65 Female': 'f65'}, inplace=True)\n",
    "le_65_male.rename(columns={'Life Expectancy at 65 Male': 'm65'}, inplace=True)\n",
    "le_80_female.rename(columns={'Life Expectancy at 80 Female': 'f80'}, inplace=True)\n",
    "le_80_male.rename(columns={'Life Expectancy at 80 Male': 'm80'}, inplace=True)\n",
    "\n",
    "# Initialize empty DataFrames for calculated averages\n",
    "standard_df = clean_OECD_data[['Country Name', 'Year']].copy()\n",
    "\n",
    "life_expectancy_at_0_log = standard_df.copy()\n",
    "life_expectancy_at_40_log = standard_df.copy()\n",
    "life_expectancy_at_60_log = standard_df.copy()\n",
    "life_expectancy_at_65_log = standard_df.copy()\n",
    "life_expectancy_at_80_log = standard_df.copy()\n",
    "\n",
    "# Compute the Average Life Expectancy at 0 Log\n",
    "life_expectancy_at_0_log['Life Expectancy at 0 Log'] = life_expectancy_at_0_var = np.log(le_0_total['t0'])\n",
    "\n",
    "# Compute the Average Life Expectancy at 40 Log\n",
    "life_expectancy_at_40_log['Life Expectancy at 40 Log'] = life_expectancy_at_40_var = np.log((le_40_female['f40'] + le_40_male['m40']) / 2)\n",
    "\n",
    "# Compute the Average Life Expectancy at 60 Log\n",
    "life_expectancy_at_60_log['Life Expectancy at 60 Log'] = life_expectancy_at_60_var = np.log((le_60_female['f60'] + le_60_male['m60']) / 2)\n",
    "\n",
    "# Compute the Average Life Expectancy at 65 Log\n",
    "life_expectancy_at_65_log['Life Expectancy at 65 Log'] = life_expectancy_at_65_var = np.log((le_65_female['f65'] + le_65_male['m65']) / 2)\n",
    "\n",
    "# Compute the Average Life Expectancy at 80 Log\n",
    "life_expectancy_at_80_log['Life Expectancy at 80 Log'] = life_expectancy_at_80_var = np.log((le_80_female['f80'] + le_80_male['m80']) / 2)\n",
    "\n",
    "# Append the columns to the OECD_annual_life_expectancy_df:\n",
    "\n",
    "dataframes_to_merge_2 = [GDP_per_capita_log, life_expectancy_at_0_log, life_expectancy_at_40_log, life_expectancy_at_60_log, \n",
    "                         life_expectancy_at_65_log, life_expectancy_at_80_log]\n",
    "\n",
    "# Append the new DataFrame to the existing one\n",
    "for df in dataframes_to_merge_2:\n",
    "    OECD_annual_life_expectancy_df = pd.merge(OECD_annual_life_expectancy_df, df, on=['Country Name', 'Year'], how='left')\n",
    "\n",
    "# Save to csv file\n",
    "OECD_annual_life_expectancy_df.to_csv('OECD_annual_life_expectancy.csv', index = False)\n"
   ]
  },
  {
   "cell_type": "markdown",
   "id": "4ac636a2",
   "metadata": {},
   "source": [
    "# Regressions"
   ]
  },
  {
   "cell_type": "markdown",
   "id": "0cefea30",
   "metadata": {},
   "source": [
    "### OECD mixed metrics regression"
   ]
  },
  {
   "cell_type": "code",
   "execution_count": 62,
   "id": "69246f08",
   "metadata": {},
   "outputs": [
    {
     "name": "stdout",
     "output_type": "stream",
     "text": [
      "                                   OLS Regression Results                                   \n",
      "============================================================================================\n",
      "Dep. Variable:     GDP per capita growth (annual %)   R-squared:                       0.467\n",
      "Model:                                          OLS   Adj. R-squared:                  0.368\n",
      "Method:                               Least Squares   F-statistic:                     15.59\n",
      "Date:                              Mon, 16 Jun 2025   Prob (F-statistic):           3.09e-07\n",
      "Time:                                      20:13:11   Log-Likelihood:                -77.132\n",
      "No. Observations:                                33   AIC:                             166.3\n",
      "Df Residuals:                                    27   BIC:                             175.2\n",
      "Df Model:                                         5                                         \n",
      "Covariance Type:                                HC1                                         \n",
      "=================================================================================================\n",
      "                                    coef    std err          t      P>|t|      [0.025      0.975]\n",
      "-------------------------------------------------------------------------------------------------\n",
      "const                           -36.0494     14.093     -2.558      0.016     -64.965      -7.134\n",
      "Growth of Life Expectancy         1.6824      0.596      2.821      0.009       0.459       2.906\n",
      "Initial GDP per Capita Log        1.8325      1.103      1.661      0.108      -0.431       4.096\n",
      "Average Adult Mortality Rate      0.3373      0.102      3.294      0.003       0.127       0.547\n",
      "Initial Infant Mortality 2000     0.0401      0.172      0.233      0.818      -0.313       0.393\n",
      "Initial Adult Mortality 2000     -0.1767      0.064     -2.772      0.010      -0.308      -0.046\n",
      "==============================================================================\n",
      "Omnibus:                        1.133   Durbin-Watson:                   2.213\n",
      "Prob(Omnibus):                  0.567   Jarque-Bera (JB):                0.297\n",
      "Skew:                          -0.018   Prob(JB):                        0.862\n",
      "Kurtosis:                       3.464   Cond. No.                     7.06e+03\n",
      "==============================================================================\n",
      "\n",
      "Notes:\n",
      "[1] Standard Errors are heteroscedasticity robust (HC1)\n",
      "[2] The condition number is large, 7.06e+03. This might indicate that there are\n",
      "strong multicollinearity or other numerical problems.\n"
     ]
    }
   ],
   "source": [
    "# Define dependent and independent variables\n",
    "X1 = OECD_mixed_df[['Growth of Life Expectancy', 'Initial GDP per Capita Log', 'Average Adult Mortality Rate', \n",
    "         'Initial Infant Mortality 2000', 'Initial Adult Mortality 2000']]\n",
    "Y1 = OECD_mixed_df['GDP per capita growth (annual %)']\n",
    "\n",
    "# Add a constant for the intercept\n",
    "X1 = sm.add_constant(X1)\n",
    "\n",
    "# Fit the OLS model\n",
    "model1 = sm.OLS(Y1, X1).fit()\n",
    "\n",
    "# Get robust standard errors (HC1)\n",
    "results1 = model1.get_robustcov_results(cov_type='HC1')\n",
    "\n",
    "# Print the summary\n",
    "print(results1.summary())"
   ]
  },
  {
   "cell_type": "markdown",
   "id": "7165e4e2",
   "metadata": {},
   "source": [
    "### OECD annual life expectancy metrics regression"
   ]
  },
  {
   "cell_type": "code",
   "execution_count": 63,
   "id": "895e9c9f",
   "metadata": {},
   "outputs": [
    {
     "name": "stdout",
     "output_type": "stream",
     "text": [
      "                              OLS Regression Results                             \n",
      "=================================================================================\n",
      "Dep. Variable:     Log of GDP per capita   R-squared:                       0.618\n",
      "Model:                               OLS   Adj. R-squared:                  0.615\n",
      "Method:                    Least Squares   F-statistic:                     264.0\n",
      "Date:                   Mon, 16 Jun 2025   Prob (F-statistic):          3.01e-157\n",
      "Time:                           20:13:11   Log-Likelihood:                -136.32\n",
      "No. Observations:                    693   AIC:                             284.6\n",
      "Df Residuals:                        687   BIC:                             311.9\n",
      "Df Model:                              5                                         \n",
      "Covariance Type:                     HC1                                         \n",
      "=============================================================================================\n",
      "                                coef    std err          t      P>|t|      [0.025      0.975]\n",
      "---------------------------------------------------------------------------------------------\n",
      "const                       -43.0636      3.509    -12.271      0.000     -49.954     -36.173\n",
      "Life Expectancy at 0 Log     15.9164      1.310     12.154      0.000      13.345      18.488\n",
      "Life Expectancy at 40 Log    -3.1581      1.198     -2.636      0.009      -5.510      -0.806\n",
      "Life Expectancy at 60 Log    -9.9321      2.144     -4.632      0.000     -14.142      -5.722\n",
      "Life Expectancy at 65 Log    11.9880      2.355      5.091      0.000       7.364      16.612\n",
      "Life Expectancy at 80 Log    -3.8318      0.615     -6.235      0.000      -5.038      -2.625\n",
      "==============================================================================\n",
      "Omnibus:                       62.196   Durbin-Watson:                   0.168\n",
      "Prob(Omnibus):                  0.000   Jarque-Bera (JB):               96.396\n",
      "Skew:                           0.638   Prob(JB):                     1.17e-21\n",
      "Kurtosis:                       4.308   Cond. No.                     2.77e+03\n",
      "==============================================================================\n",
      "\n",
      "Notes:\n",
      "[1] Standard Errors are heteroscedasticity robust (HC1)\n",
      "[2] The condition number is large, 2.77e+03. This might indicate that there are\n",
      "strong multicollinearity or other numerical problems.\n"
     ]
    }
   ],
   "source": [
    "# Define dependent and independent variables\n",
    "X2 = OECD_annual_life_expectancy_df[['Life Expectancy at 0 Log', 'Life Expectancy at 40 Log', 'Life Expectancy at 60 Log', \\\n",
    "                                     'Life Expectancy at 65 Log', 'Life Expectancy at 80 Log']]\n",
    "Y2 = OECD_annual_life_expectancy_df['Log of GDP per capita']\n",
    "\n",
    "# Add a constant for the intercept\n",
    "X2 = sm.add_constant(X2)\n",
    "\n",
    "# Fit the OLS model\n",
    "model2 = sm.OLS(Y2, X2).fit()\n",
    "\n",
    "# Get robust standard errors (HC1)\n",
    "results2 = model2.get_robustcov_results(cov_type='HC1')\n",
    "\n",
    "# Print the summary\n",
    "print(results2.summary())"
   ]
  }
 ],
 "metadata": {
  "kernelspec": {
   "display_name": ".venv",
   "language": "python",
   "name": "python3"
  },
  "language_info": {
   "codemirror_mode": {
    "name": "ipython",
    "version": 3
   },
   "file_extension": ".py",
   "mimetype": "text/x-python",
   "name": "python",
   "nbconvert_exporter": "python",
   "pygments_lexer": "ipython3",
   "version": "3.9.6"
  }
 },
 "nbformat": 4,
 "nbformat_minor": 5
}
